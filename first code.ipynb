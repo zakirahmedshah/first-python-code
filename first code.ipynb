{
 "cells": [
  {
   "cell_type": "code",
   "execution_count": 1,
   "id": "03c1fd40",
   "metadata": {},
   "outputs": [],
   "source": [
    "import numpy as np"
   ]
  },
  {
   "cell_type": "code",
   "execution_count": 1,
   "id": "815648cc",
   "metadata": {},
   "outputs": [
    {
     "name": "stdout",
     "output_type": "stream",
     "text": [
      "1D Array:\n",
      "[1 2 3 4 5]\n",
      "\n",
      "2D Array:\n",
      "[[1 2 3]\n",
      " [4 5 6]\n",
      " [7 8 9]]\n",
      "\n",
      "Accessing elements:\n",
      "Element at index 0 of array_1d: 1\n",
      "Element at row 1, column 2 of array_2d: 6\n",
      "\n",
      "Sum of elements in array_1d: 15\n",
      "Mean of elements in array_2d: 5.0\n",
      "\n",
      "Reshaped array:\n",
      "[[1]\n",
      " [2]\n",
      " [3]\n",
      " [4]\n",
      " [5]]\n"
     ]
    }
   ],
   "source": [
    "import numpy as np\n",
    "\n",
    "# Create a simple 1D array\n",
    "array_1d = np.array([1, 2, 3, 4, 5])\n",
    "print(\"1D Array:\")\n",
    "print(array_1d)\n",
    "\n",
    "# Create a simple 2D array\n",
    "array_2d = np.array([[1, 2, 3], [4, 5, 6], [7, 8, 9]])\n",
    "print(\"\\n2D Array:\")\n",
    "print(array_2d)\n",
    "\n",
    "# Accessing elements of the array\n",
    "print(\"\\nAccessing elements:\")\n",
    "print(\"Element at index 0 of array_1d:\", array_1d[0])\n",
    "print(\"Element at row 1, column 2 of array_2d:\", array_2d[1, 2])\n",
    "\n",
    "# Performing basic operations\n",
    "array_1d_sum = np.sum(array_1d)\n",
    "print(\"\\nSum of elements in array_1d:\", array_1d_sum)\n",
    "\n",
    "array_2d_mean = np.mean(array_2d)\n",
    "print(\"Mean of elements in array_2d:\", array_2d_mean)\n",
    "\n",
    "# Reshaping an array\n",
    "reshaped_array = np.reshape(array_1d, (5, 1))\n",
    "print(\"\\nReshaped array:\")\n",
    "print(reshaped_array)\n"
   ]
  },
  {
   "cell_type": "code",
   "execution_count": 2,
   "id": "acca5ac9",
   "metadata": {},
   "outputs": [
    {
     "name": "stdout",
     "output_type": "stream",
     "text": [
      "DataFrame:\n",
      "      Name  Age         City\n",
      "0    Alice   25     New York\n",
      "1      Bob   30  Los Angeles\n",
      "2  Charlie   35      Chicago\n",
      "3    David   40      Houston\n",
      "\n",
      "Accessing 'Name' column:\n",
      "0      Alice\n",
      "1        Bob\n",
      "2    Charlie\n",
      "3      David\n",
      "Name: Name, dtype: object\n",
      "\n",
      "Accessing row 1:\n",
      "Name            Bob\n",
      "Age              30\n",
      "City    Los Angeles\n",
      "Name: 1, dtype: object\n",
      "\n",
      "Mean age: 32.5\n",
      "Maximum age: 40\n"
     ]
    }
   ],
   "source": [
    "import pandas as pd\n",
    "\n",
    "# Creating a DataFrame from a dictionary\n",
    "data = {'Name': ['Alice', 'Bob', 'Charlie', 'David'],\n",
    "        'Age': [25, 30, 35, 40],\n",
    "        'City': ['New York', 'Los Angeles', 'Chicago', 'Houston']}\n",
    "\n",
    "df = pd.DataFrame(data)\n",
    "\n",
    "# Displaying the DataFrame\n",
    "print(\"DataFrame:\")\n",
    "print(df)\n",
    "\n",
    "# Accessing specific columns\n",
    "print(\"\\nAccessing 'Name' column:\")\n",
    "print(df['Name'])\n",
    "\n",
    "# Accessing specific rows\n",
    "print(\"\\nAccessing row 1:\")\n",
    "print(df.iloc[1])\n",
    "\n",
    "# Basic statistics\n",
    "print(\"\\nMean age:\", df['Age'].mean())\n",
    "print(\"Maximum age:\", df['Age'].max())\n"
   ]
  },
  {
   "cell_type": "code",
   "execution_count": null,
   "id": "029fe785",
   "metadata": {},
   "outputs": [],
   "source": []
  },
  {
   "cell_type": "code",
   "execution_count": null,
   "id": "d7cbcf7c",
   "metadata": {},
   "outputs": [],
   "source": []
  }
 ],
 "metadata": {
  "kernelspec": {
   "display_name": "Python 3 (ipykernel)",
   "language": "python",
   "name": "python3"
  },
  "language_info": {
   "codemirror_mode": {
    "name": "ipython",
    "version": 3
   },
   "file_extension": ".py",
   "mimetype": "text/x-python",
   "name": "python",
   "nbconvert_exporter": "python",
   "pygments_lexer": "ipython3",
   "version": "3.11.5"
  }
 },
 "nbformat": 4,
 "nbformat_minor": 5
}
